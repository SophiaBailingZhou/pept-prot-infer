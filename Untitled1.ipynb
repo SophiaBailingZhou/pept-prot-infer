{
 "cells": [
  {
   "cell_type": "markdown",
   "id": "3ea72721-2dec-4fbb-bfc1-8c9134fe5742",
   "metadata": {},
   "source": [
    "<div style=\"background-color:rgba(0, 0, 0, 0.0470588); padding:10px 0;font-family:monospace;\">\n",
    "This is <font color = \"red\">pseudocode</font><br>\n",
    "&nbsp;&nbsp;&nbsp;&nbsp; More pseudocode <font color = \"orange\" over</font> there.\n",
    "</div>"
   ]
  },
  {
   "cell_type": "code",
   "execution_count": null,
   "id": "ce1c6987-96ac-4494-aa2d-b26a403ba208",
   "metadata": {},
   "outputs": [],
   "source": [
    "**update_p_zj_given_xi():**\n",
    "\n",
    "result: **updates estimate of P(Zj|Xi)**\n",
    "   - if inference_mode == \"peptide\" (or \"protein\"):\n",
    "           P(Zj|Xi) = P(Xi|Zj) * P(Zj) / SUM_over_l(P(Xi|Zl) * P(Zl))\n",
    "   - for some reason, simplifying the formula for the prot infer didn't work. I don't understand why not, but I left the simplied part in the code. To use it, the elif needs to be changed to inference_mode == \"protein\""
   ]
  },
  {
   "cell_type": "code",
   "execution_count": null,
   "id": "bd1d4047-b903-4a57-8739-865dbb78277c",
   "metadata": {},
   "outputs": [],
   "source": []
  },
  {
   "cell_type": "code",
   "execution_count": null,
   "id": "a2e3d6ac-781a-4c18-acaa-1f4bcc008d41",
   "metadata": {},
   "outputs": [],
   "source": []
  }
 ],
 "metadata": {
  "kernelspec": {
   "display_name": "Python 3 (ipykernel)",
   "language": "python",
   "name": "python3"
  },
  "language_info": {
   "codemirror_mode": {
    "name": "ipython",
    "version": 3
   },
   "file_extension": ".py",
   "mimetype": "text/x-python",
   "name": "python",
   "nbconvert_exporter": "python",
   "pygments_lexer": "ipython3",
   "version": "3.9.10"
  }
 },
 "nbformat": 4,
 "nbformat_minor": 5
}
