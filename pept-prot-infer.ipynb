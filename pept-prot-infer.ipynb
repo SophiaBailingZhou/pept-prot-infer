{
 "cells": [
  {
   "cell_type": "markdown",
   "id": "e3b00c21-80b7-4ecd-94e9-f93295cc0488",
   "metadata": {
    "jp-MarkdownHeadingCollapsed": true,
    "tags": []
   },
   "source": [
    "**how to execute the program (in Jupyter Lab)**\n",
    "\n",
    "esc, ctrl+a, ctrl+enter to run all cells"
   ]
  },
  {
   "cell_type": "markdown",
   "id": "c0b9c47a-413d-48bb-aba3-421e61fab566",
   "metadata": {
    "tags": []
   },
   "source": [
    "# Functions"
   ]
  },
  {
   "cell_type": "markdown",
   "id": "080fed80-531c-491a-a919-d15866efa117",
   "metadata": {
    "tags": []
   },
   "source": [
    "## import of packages"
   ]
  },
  {
   "cell_type": "code",
   "execution_count": 52,
   "id": "b9704e7d-95cf-49e7-816a-9b65de641c1c",
   "metadata": {
    "tags": []
   },
   "outputs": [],
   "source": [
    "import numpy as np # better arrays than inbuilt arrays\n",
    "# import matplotlib.pyplot as plt # to plot stuff\n",
    "\n",
    "import pandas as pd #for DataFrame tables\n",
    "from IPython.display import display #to display dfs more nicely. works similar to head(), but is more flexible in how many columns/rows are shown\n",
    "pd.set_option(\"display.max_rows\", None) #to let display show full df\n",
    "pd.set_option(\"display.max_columns\", None)\n",
    "from sklearn import preprocessing\n",
    "\n",
    "import scipy.stats\n",
    "#from scipy.stats import norm\n",
    "import statistics\n",
    "\n",
    "import math\n",
    "import time #to measure runtime"
   ]
  },
  {
   "cell_type": "markdown",
   "id": "307eddb1-7bfa-4c33-aae3-323d2cf41b86",
   "metadata": {
    "tags": []
   },
   "source": [
    "## Expectation-Maximization    "
   ]
  },
  {
   "cell_type": "code",
   "execution_count": 53,
   "id": "f34fc0bf-52a3-43fb-9269-b40a39654f55",
   "metadata": {
    "tags": []
   },
   "outputs": [],
   "source": [
    "def update_p_zj_given_xi(p_xi_given_zj, p_zj, p_zj_given_xi):\n",
    "    ## both for PEPTIDE and PROTEIN inference. originally I had thought I could simplify this step for protein inference, but I don't understand why it doesn't work. so the protein inference step uses the same calculcation as the peptide inference step\n",
    "    if inference_mode == \"peptide\" or \"protein\":\n",
    "        numerator = p_xi_given_zj * p_zj # = ARRAY with same shape as P(Xi|Zj)\n",
    "        denominator = np.expand_dims(np.sum(p_xi_given_zj * p_zj, axis=1), axis=-1) # = VECTOR with length of p Xi. expand_dims is necessary because else denominator has the shape (number of reads Xi,) instead of (number of reads Xi, 1). The entries of the vector are identical. But it does not have the same matrix \"rank\", which is why broadcasting fails without that \n",
    "        p_zj_given_xi = np.divide(numerator, denominator, out=np.zeros_like(numerator), where=denominator!=0) # if denominator = 0, return 0. This happens sometimes when the likelihood for Zj is equal to 0. This could alternatively be avoided by cropping the rows where the input P(Xi|Zj) scores equal to 0\n",
    "        p_zj_given_xi = np.transpose(p_zj_given_xi)\n",
    "       \n",
    "    ## UNUSED. PLACEHOLDER for PROTEIN inference (denominator is has no loop). See inference_mode comment above for explanation why its unused.\n",
    "    elif inference_mode == \"PLACEHOLDER protein\":\n",
    "        p_zj_given_xi = (p_xi_given_zj * p_zj)/np.expand_dims(p_xi, axis=-1)\n",
    "        p_zj_given_xi = np.transpose(p_zj_given_xi)\n",
    "        \n",
    "    else:\n",
    "        print(\"ERROR: inference_mode was not set to peptide or protein\")\n",
    "        \n",
    "    return p_zj_given_xi"
   ]
  },
  {
   "cell_type": "code",
   "execution_count": 54,
   "id": "d0dfeb6f-3479-4489-8502-8ec33cab074e",
   "metadata": {
    "tags": []
   },
   "outputs": [],
   "source": [
    "def update_p_zj(p_zj, p_zj_given_xi):  \n",
    "    if inference_mode == \"peptide\":\n",
    "        p_zj = p_zj_given_xi.sum(axis=1)#/p_xi_given_zj.shape[1]\n",
    "\n",
    "        p_zj_sum = np.sum(p_zj, axis = 0)\n",
    "        p_zj = p_zj/p_zj_sum #so that p_zj is a fraction (i. e. a number between 0 and 1) \n",
    "\n",
    "    elif inference_mode == \"protein\":\n",
    "        p_zj.fill(0) # reset all values of pzj to 0\n",
    "        \n",
    "        p_zj = np.sum(p_zj_given_xi * p_xi, axis = 1)\n",
    "        p_zj_sum = np.sum(p_zj, axis = 0)\n",
    "        p_zj = p_zj/p_zj_sum #so that p_zj is a fraction (i. e. a number between 0 and 1) \n",
    "    \n",
    "    else:\n",
    "        print(\"ERROR: inference_mode was not set to peptide or protein\")\n",
    "    \n",
    "    return p_zj"
   ]
  },
  {
   "cell_type": "code",
   "execution_count": 55,
   "id": "3c5b5972-b626-454b-8422-c5be7e306557",
   "metadata": {
    "tags": []
   },
   "outputs": [],
   "source": [
    "def EM_convergence_checker(p_zj_old, p_zj, EM_convergence_minimum):\n",
    "    difference_abs = abs(np.sum(p_zj_old[round(0.5*len(p_zj_old))::], axis=0, dtype=float) - np.sum(p_zj[round(0.5*len(p_zj_old))::], axis=0, dtype=float))\n",
    "    if difference_abs > EM_convergence_minimum:\n",
    "        return False\n",
    "    \n",
    "    else:\n",
    "        return True   "
   ]
  },
  {
   "cell_type": "code",
   "execution_count": 56,
   "id": "79e08316-e78a-4de3-b949-3ba2077fd813",
   "metadata": {
    "tags": []
   },
   "outputs": [],
   "source": [
    "def EM(p_xi_given_zj):\n",
    "    global xi_len\n",
    "    global zj_len\n",
    "    xi_len = p_xi_given_zj.shape[0] # length of x (number of reads in pept infer, or peptides in prot infer)\n",
    "    zj_len = p_xi_given_zj.shape[1] # length of z (number of peptides in pept infer, or proteins in prot infer)\n",
    "    \n",
    "    p_zj_given_xi = np.full((zj_len, xi_len), 0, dtype=float) #Initialisation based on array size of p_xi_given_zj -- same size, but transposed\n",
    "    \n",
    "    p_zj_initial = 1/zj_len #initial approximation: all zj equally likely, to jumpstart first iteration\n",
    "\n",
    "    global p_zj\n",
    "    p_zj = np.full(zj_len, p_zj_initial)\n",
    "    p_zj_old = np.full(zj_len, 0)\n",
    "    \n",
    "    global EM_loopcounter \n",
    "    EM_loopcounter = 0\n",
    "    EM_convergence_checker_result = False\n",
    "        \n",
    "    while (EM_convergence_checker_result == False) and EM_loopcounter < EM_loopcounter_max:\n",
    "        p_zj_given_xi = update_p_zj_given_xi(p_xi_given_zj, p_zj, p_zj_given_xi)        \n",
    "        p_zj_old = np.copy(p_zj, order='K', subok=False)\n",
    "        p_zj = update_p_zj(p_zj, p_zj_given_xi)\n",
    "        EM_convergence_checker_result = EM_convergence_checker(p_zj_old, p_zj, EM_convergence_minimum)\n",
    "\n",
    "        EM_loopcounter = EM_loopcounter + 1\n",
    "    return p_zj"
   ]
  },
  {
   "cell_type": "markdown",
   "id": "c5084a15-17a8-498a-a95e-024edc219205",
   "metadata": {
    "tags": []
   },
   "source": [
    "## bootstrapping"
   ]
  },
  {
   "cell_type": "code",
   "execution_count": 57,
   "id": "017f6966-6cfe-47b9-b11c-46cbe649985e",
   "metadata": {
    "tags": []
   },
   "outputs": [],
   "source": [
    "def create_subarray_of_p_xi_given_zj(p_xi_given_zj):\n",
    "    df_p_xi_given_zj = pd.DataFrame(p_xi_given_zj)\n",
    "    df_p_xi_given_zj_sample = df_p_xi_given_zj.sample(frac=bootstrap_sampled_fraction, axis='rows', replace=True) # filters for a random partial dataset\n",
    "    # display(pd.DataFrame(df_p_xi_given_zj_sample))\n",
    "    p_xi_given_zj_subarray = df_p_xi_given_zj_sample.to_numpy()\n",
    "    \n",
    "    # print(\"p_xi_given_zj_subarray\")\n",
    "    # display(pd.DataFrame(p_xi_given_zj_subarray))\n",
    "    \n",
    "    return p_xi_given_zj_subarray"
   ]
  },
  {
   "cell_type": "code",
   "execution_count": 58,
   "id": "4edffbe3-83fa-4e42-bf2f-17beafeb014a",
   "metadata": {
    "tags": []
   },
   "outputs": [],
   "source": [
    "def bootstrap_EM():\n",
    "    global p_zj_bootstrap_results_fraction\n",
    "    global p_zj_peptide_copy\n",
    "    global p_xi\n",
    "    i = 0\n",
    "    \n",
    "    p_zj_bootstrap_results_absolute = np.full((p_xi_given_zj.shape[1]), 0, dtype=float)\n",
    "      \n",
    "    if bootstrap_sampled_fraction == -1: # no bootstrapping, i. e. use full dataset for EM. Since the EM is deterministic, there is no point in running multiple bootstrap runs\n",
    "        if inference_mode == \"peptide\": \n",
    "            p_xi_given_zj_subarray = p_xi_given_zj\n",
    "            p_zj_bootstrap_results_absolute = EM(p_xi_given_zj_subarray)\n",
    "\n",
    "            p_zj_bootstrap_results_fraction = p_zj_bootstrap_results_absolute/np.sum(p_zj_bootstrap_results_absolute, axis = 0)\n",
    "            print(\"Peptide Zj values from every bootstrap run (columns: peptides, rows: bootstrap run, displayed as fractions: \")\n",
    "    \n",
    "        elif inference_mode == \"protein\": #only difference: uses p(zj) values from peptide inferrence as the p_xi values. Also, update_p_zj() called by EM() uses a different formula than in pep infer\n",
    "            p_xi = np.copy(p_zj_bootstrap_results_fraction_avg) # input is just a vector, because no bootstrapping.\n",
    "\n",
    "            p_xi_given_zj_subarray = p_xi_given_zj\n",
    "            p_zj_bootstrap_results_absolute = EM(p_xi_given_zj_subarray)\n",
    "\n",
    "            p_zj_bootstrap_results_fraction = p_zj_bootstrap_results_absolute/np.sum(p_zj_bootstrap_results_absolute, axis = 0)\n",
    "            print(\"PRE-CORRECTION: Protein Zj values from every bootstrap run (columns: protein, rows: bootstrap run, displayed as fractions: \")\n",
    "    \n",
    "    elif bootstrap_sampled_fraction != -1: # with bootstrapping, i. e. a subarray of the dataset is created for each bootstrap run\n",
    "        if inference_mode == \"peptide\":\n",
    "            while i < n_bootstrap_runs:\n",
    "                p_xi_given_zj_subarray = create_subarray_of_p_xi_given_zj(p_xi_given_zj) \n",
    "                if i == 0:\n",
    "                    p_zj_bootstrap_results_absolute = EM(p_xi_given_zj_subarray)\n",
    "                else:\n",
    "                    p_zj_bootstrap_results_absolute = np.vstack((p_zj_bootstrap_results_absolute, EM(p_xi_given_zj_subarray)))\n",
    "\n",
    "                print(\"Bootstrap run #\", i, \". EM loops: \", EM_loopcounter, sep=\"\")\n",
    "                if EM_loopcounter == EM_loopcounter_max:\n",
    "                    print(\"WARNING: EM_loopcounter was reached, convergence likely still has not been reached. Consider increasing the maximum number of EM loops.\")\n",
    "\n",
    "                i = i + 1\n",
    "            p_zj_bootstrap_results_fraction = p_zj_bootstrap_results_absolute/np.sum(p_zj_bootstrap_results_absolute, axis = 1)[0]    \n",
    "\n",
    "        elif inference_mode == \"protein\":\n",
    "            p_zj_peptide_copy = np.copy(p_zj_bootstrap_results_fraction) # input: an array\n",
    "\n",
    "            while i < n_bootstrap_runs:\n",
    "                p_xi_given_zj_subarray = p_xi_given_zj\n",
    "                p_xi = p_zj_peptide_copy[i]\n",
    "                \n",
    "                if i == 0:\n",
    "                    p_zj_bootstrap_results_absolute = EM(p_xi_given_zj_subarray)\n",
    "                else:\n",
    "                    p_zj_bootstrap_results_absolute = np.vstack((p_zj_bootstrap_results_absolute, EM(p_xi_given_zj_subarray)))\n",
    "\n",
    "                print(\"Bootstrap run #\", i, \". EM loops: \", EM_loopcounter, sep=\"\")\n",
    "                if EM_loopcounter == EM_loopcounter_max:\n",
    "                    print(\"WARNING: EM_loopcounter was reached, convergence likely still has not been reached. Consider increasing the maximum number of EM loops.\")\n",
    "\n",
    "                i = i + 1\n",
    "                \n",
    "            p_zj_bootstrap_results_fraction = p_zj_bootstrap_results_absolute/np.sum(p_zj_bootstrap_results_absolute, axis = 1)[0]"
   ]
  },
  {
   "cell_type": "code",
   "execution_count": 59,
   "id": "9df928ed-adcb-402d-9ec5-97ffd317a4d4",
   "metadata": {
    "tags": []
   },
   "outputs": [],
   "source": [
    "def bootstrap_EM_analytics_AVG():\n",
    "    global p_zj_bootstrap_results_fraction_avg\n",
    "    \n",
    "    if bootstrap_sampled_fraction == -1:\n",
    "        p_zj_bootstrap_results_fraction_avg = np.copy(p_zj_bootstrap_results_fraction,order='K')\n",
    "    elif bootstrap_sampled_fraction != -1:\n",
    "        p_zj_bootstrap_results_fraction_avg = np.sum(p_zj_bootstrap_results_fraction, axis = 0)/p_zj_bootstrap_results_fraction.shape[0]"
   ]
  },
  {
   "cell_type": "code",
   "execution_count": 60,
   "id": "ec5ce1eb-7e35-4cf1-b20a-b632273a4487",
   "metadata": {
    "tags": []
   },
   "outputs": [],
   "source": [
    "def bootstrap_EM_analytics_CI():\n",
    "    outlier_on_each_side = (100-CI_percent)/(2*100) # i.e. 2.5% missing on each side if 95% CI\n",
    "    \n",
    "    lowindex = round(outlier_on_each_side*n_bootstrap_runs)\n",
    "    highindex = round((1-outlier_on_each_side)*n_bootstrap_runs)\n",
    "    \n",
    "    bootstrap_CI_max = np.sort(p_zj_bootstrap_results_fraction, axis=0, kind=\"quicksort\", order=None)[lowindex:highindex:][-1] #fetches last row from sorted table, ie the highest values. axis=0: sorting along each column\n",
    "    bootstrap_CI_min = np.sort(p_zj_bootstrap_results_fraction, axis=0, kind=\"quicksort\", order=None)[lowindex:highindex:][0] #same but for first row, highest values\n",
    "    bootstrap_CI_minmax = np.stack((bootstrap_CI_min, bootstrap_CI_max))\n",
    "    \n",
    "    ## show full sorted table\n",
    "    # global p_zj_bootstrap_results_fraction_CI\n",
    "    # print(\"The\", CI_percent, \"% confidence interval of all zj bootstrapping values sorted, displayed as fractions: \")    \n",
    "    # p_zj_bootstrap_results_fraction_CI = np.sort(p_zj_bootstrap_results_fraction, axis=0, kind=\"quicksort\", order=None)[lowindex:highindex:] #axis=sorting along each column\n",
    "    # display(pd.DataFrame(p_zj_bootstrap_results_fraction_CI))\n",
    "    \n",
    "    return bootstrap_CI_minmax"
   ]
  },
  {
   "cell_type": "markdown",
   "id": "e0d7e608-f5e3-4c2e-af04-04736ece38fe",
   "metadata": {
    "tags": []
   },
   "source": [
    "## output"
   ]
  },
  {
   "cell_type": "code",
   "execution_count": 61,
   "id": "d65e8230-c958-4e74-98df-de37b323b21b",
   "metadata": {
    "tags": []
   },
   "outputs": [],
   "source": [
    "def output():\n",
    "    global p_zj_bootstrap_results_fraction_avg\n",
    "    bootstrap_EM_analytics_AVG()\n",
    "    bootstrap_CI_minmax = bootstrap_EM_analytics_CI()\n",
    "\n",
    "    ### STDs (alternative to CI)\n",
    "    p_zj_bootstrap_results_fraction_std = np.std(p_zj_bootstrap_results_fraction, axis = 0)\n",
    "    \n",
    "    if inference_mode == \"protein\":\n",
    "        corrfactor = dyeseq_in_prot_match_count*np.sum(p_zj_bootstrap_results_fraction_avg/dyeseq_in_prot_match_count)\n",
    "\n",
    "        p_zj_bootstrap_results_fraction_avg = p_zj_bootstrap_results_fraction_avg/corrfactor        \n",
    "        if bootstrap_sampled_fraction != -1:\n",
    "            p_zj_bootstrap_results_fraction_std = p_zj_bootstrap_results_fraction_std/corrfactor\n",
    "            bootstrap_CI_minmax = bootstrap_CI_minmax/corrfactor\n",
    "            \n",
    "    # Combines AVG zj values (from all bootstrap runs), the STD, and the two bounds for the user-chosen confidence interval in one  \n",
    "    if bootstrap_sampled_fraction == -1: #ie if no bootstrapping. Fills -CI and +CI columns with \"N/A\" values\n",
    "        p_zj_avg_plus_CI = np.stack((p_zj_bootstrap_results_fraction_avg*100, np.full((len(p_zj_bootstrap_results_fraction_avg)), fill_value=\"N/A\", dtype=None), np.full((len(p_zj_bootstrap_results_fraction_avg)), fill_value=\"N/A\", dtype=None), np.full((len(p_zj_bootstrap_results_fraction_avg)), fill_value=\"N/A\", dtype=None)), axis=1)    \n",
    "        display(pd.DataFrame(p_zj_avg_plus_CI, columns = [\"AVG [%]\", \"±STD [%]\", \"-CI [%]\", \"+CI [%]\"]).astype({\"AVG [%]\":float}).round(4))\n",
    "    else:\n",
    "        p_zj_avg_plus_CI = np.stack((p_zj_bootstrap_results_fraction_avg, p_zj_bootstrap_results_fraction_std, bootstrap_CI_minmax[0], bootstrap_CI_minmax[1]), axis = 1)\n",
    "        display(pd.DataFrame(p_zj_avg_plus_CI, columns = [\"AVG [%]\", \"±STD [%]\", \"-CI [%]\", \"+CI [%]\"]).round(4)*100)\n",
    "\n",
    "    ### print user-settings\n",
    "    print('\\033[1m' + 'Settings of this run' + '\\033[0m')\n",
    "    print(\"Inference mode:\", inference_mode)\n",
    "    print(\"EM_convergence_minimum:\", EM_convergence_minimum)\n",
    "    print(\"EM_loopcounter_max:\", EM_loopcounter_max)\n",
    "    print(\"bootstrap_sampled_fraction:\", bootstrap_sampled_fraction)\n",
    "    print(\"n_bootstrap_runs:\", n_bootstrap_runs)\n",
    "    print(\"CI_percent:\", CI_percent, \"\\n\")\n",
    "\n",
    "    ### print other\n",
    "    print(\"Runtime: %s seconds ---\" % round((time.time() - start_time),2)) #run time"
   ]
  },
  {
   "cell_type": "markdown",
   "id": "0d8adb5e-3057-424e-866e-637ebccd86ee",
   "metadata": {
    "tags": []
   },
   "source": [
    "# call functions"
   ]
  },
  {
   "cell_type": "code",
   "execution_count": 62,
   "id": "c6c157ec-dcbd-457a-a448-bde516d2728d",
   "metadata": {
    "collapsed": true,
    "jupyter": {
     "outputs_hidden": true
    },
    "tags": []
   },
   "outputs": [
    {
     "name": "stdout",
     "output_type": "stream",
     "text": [
      "EM_convergence_minimum? If nothing is entered, it is set to 0.0001. \n",
      "Maximum number of EM runs (per bootstrap run)? If nothing is entered, it is set to 200. 10\n",
      "Fraction of subarray sampled for each bootstrap run? If nothing is entered, it is set to 0.8. If -1 is entered, bootstrapping is turned off. Note: Bootstrapping is always turned OFF for the protein inference part. \n",
      "Number of bootstrap runs? If nothing is entered, it is set to 200. 10\n",
      "Condidence interval? If nothing is entered, it is set to 95. \n"
     ]
    }
   ],
   "source": [
    "# esc, ctrl+a, ctrl+enter to run all cells\n",
    "\n",
    "EM_convergence_minimum = float(input(\"EM_convergence_minimum? If nothing is entered, it is set to 0.0001.\") or \"0.0001\")\n",
    "EM_loopcounter_max = int(input(\"Maximum number of EM runs (per bootstrap run)? If nothing is entered, it is set to 200.\") or \"200\") \n",
    "bootstrap_sampled_fraction = float(input(\"Fraction of subarray sampled for each bootstrap run? If nothing is entered, it is set to 0.8. If -1 is entered, bootstrapping is turned off. Note: Bootstrapping is always turned OFF for the protein inference part.\") or \"0.8\")                   \n",
    "n_bootstrap_runs = int(input(\"Number of bootstrap runs? If nothing is entered, it is set to 200.\") or \"200\") \n",
    "CI_percent = float(input(\"Condidence interval? If nothing is entered, it is set to 95.\") or \"95\")"
   ]
  },
  {
   "cell_type": "code",
   "execution_count": null,
   "id": "6fdc4f76-547b-4355-8966-3d17d772a815",
   "metadata": {
    "collapsed": true,
    "jupyter": {
     "outputs_hidden": true
    },
    "tags": []
   },
   "outputs": [],
   "source": [
    "inference_mode = \"peptide\"\n",
    "\n",
    "p_xi_given_zj = np.genfromtxt(\"110 pept 10 prot set/1_p_xi_given_zj_pept_infer_input.csv\", delimiter=',')\n",
    "\n",
    "start_time = time.time() # to start measuring runtime\n",
    "bootstrap_EM()\n",
    "output()"
   ]
  },
  {
   "cell_type": "code",
   "execution_count": null,
   "id": "8c497c21-a39d-40c7-95b1-eebbe3423193",
   "metadata": {
    "collapsed": true,
    "jupyter": {
     "outputs_hidden": true
    },
    "tags": []
   },
   "outputs": [],
   "source": [
    "inference_mode = \"protein\"\n",
    "\n",
    "dyeseq_in_prot_match_count = np.genfromtxt(\"110 pept 10 prot set/2_dyeseq_in_prot_match_count.csv\", delimiter=',') # To calculate this the target proteome needs to be virtually digested and labelled (i.e. turned into dye sequences). Next, the reads' dye sequences are matched against this, and the number of matches per protein is counted. I did not write any code to solve this particular problem, but it seems like it should be fairly easy\n",
    "p_xi_given_zj = np.genfromtxt(\"110 pept 10 prot set/2_p_xi_given_zj_prot_infer_input.csv\", delimiter=',') # The likelihood for any dye seq Xi given a protein Zj is equal to the number of matches of that dye seq in a particular protein, divided by the sum of all dye seq matches of that protein. I did not write any code to solve this problem either\n",
    "\n",
    "start_time = time.time() # to start measuring runtime\n",
    "bootstrap_EM()\n",
    "output()"
   ]
  },
  {
   "cell_type": "code",
   "execution_count": null,
   "id": "f419ee6f-95f0-405c-85cf-e30efbfff009",
   "metadata": {},
   "outputs": [],
   "source": []
  }
 ],
 "metadata": {
  "kernelspec": {
   "display_name": "Python 3 (ipykernel)",
   "language": "python",
   "name": "python3"
  },
  "language_info": {
   "codemirror_mode": {
    "name": "ipython",
    "version": 3
   },
   "file_extension": ".py",
   "mimetype": "text/x-python",
   "name": "python",
   "nbconvert_exporter": "python",
   "pygments_lexer": "ipython3",
   "version": "3.11.4"
  },
  "toc-autonumbering": true
 },
 "nbformat": 4,
 "nbformat_minor": 5
}
