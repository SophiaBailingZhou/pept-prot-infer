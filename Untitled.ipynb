{
 "cells": [
  {
   "cell_type": "code",
   "execution_count": null,
   "id": "c604021f-45e7-462c-bee0-d8df4ef75cd5",
   "metadata": {},
   "outputs": [],
   "source": [
    "def update_p_zj_given_xi(p_xi_given_zj, p_zj, p_zj_given_xi):\n",
    "    ## both for PEPTIDE and PROTEIN inference. originally I had thought I could simplify this step for protein inference, but I don't understand why it doesn't work. so the protein inference step uses the same calculcation as the peptide inference step\n",
    "    if inference_mode == \"peptide\" or \"protein\":\n",
    "        numerator = p_xi_given_zj * p_zj # = ARRAY with same shape as P(Xi|Zj)\n",
    "        denominator = np.expand_dims(np.sum(p_xi_given_zj * p_zj, axis=1), axis=-1) # = VECTOR with length of p Xi. expand_dims is necessary because else denominator has the shape (number of reads Xi,) instead of (number of reads Xi, 1). The entries of the vector are identical. But it does not have the same matrix \"rank\", which is why broadcasting fails without that \n",
    "        p_zj_given_xi = np.divide(numerator, denominator, out=np.zeros_like(numerator), where=denominator!=0) # if denominator = 0, return 0. This happens sometimes when the likelihood for Zj is equal to 0. This could alternatively be avoided by cropping the rows where the input P(Xi|Zj) scores equal to 0\n",
    "        p_zj_given_xi = np.transpose(p_zj_given_xi)\n",
    "       \n",
    "    ## for PROTEIN inference (denominator is has no loop)\n",
    "    elif inference_mode == \"not protein - doesn't work for some reason, even though I expect it to...?\":\n",
    "        p_zj_given_xi = (p_xi_given_zj * p_zj)/np.expand_dims(p_xi, axis=-1)\n",
    "        p_zj_given_xi = np.transpose(p_zj_given_xi)\n",
    "        \n",
    "    else:\n",
    "        print(\"ERROR: inference_mode was not set to peptide or protein\")\n",
    "        \n",
    "    return p_zj_given_xi"
   ]
  },
  {
   "cell_type": "code",
   "execution_count": null,
   "id": "7b275059-5656-4e3a-9d7c-53677d8603a3",
   "metadata": {},
   "outputs": [],
   "source": [
    "def update_p_zj_given_xi(p_xi_given_zj, p_zj, p_zj_given_xi):\n",
    "    ## both for PEPTIDE and PROTEIN inference. originally I had thought I could simplify this step for protein inference, but I don't understand why it doesn't work. so the protein inference step uses the same calculcation as the peptide inference step\n",
    "    if inference_mode == \"peptide\" or \"protein\":\n",
    "        numerator = p_xi_given_zj * p_zj # = ARRAY with same shape as P(Xi|Zj)\n",
    "        denominator = np.expand_dims(np.sum(p_xi_given_zj * p_zj, axis=1), axis=-1) # = VECTOR with length of p Xi. expand_dims is necessary because else denominator has the shape (number of reads Xi,) instead of (number of reads Xi, 1). The entries of the vector are identical. But it does not have the same matrix \"rank\", which is why broadcasting fails without that \n",
    "        p_zj_given_xi = np.divide(numerator, denominator, out=np.zeros_like(numerator), where=denominator!=0) # if denominator = 0, return 0. This happens sometimes when the likelihood for Zj is equal to 0. This could alternatively be avoided by cropping the rows where the input P(Xi|Zj) scores equal to 0\n",
    "        p_zj_given_xi = np.transpose(p_zj_given_xi)\n",
    "       \n",
    "    ## for PROTEIN inference (denominator is has no loop)\n",
    "    elif inference_mode == \"not protein - doesn't work for some reason, even though I expect it to...?\":\n",
    "        p_zj_given_xi = (p_xi_given_zj * p_zj)/np.expand_dims(p_xi, axis=-1)\n",
    "        p_zj_given_xi = np.transpose(p_zj_given_xi)\n",
    "        \n",
    "    else:\n",
    "        print(\"ERROR: inference_mode was not set to peptide or protein\")\n",
    "        \n",
    "    return p_zj_given_xi"
   ]
  }
 ],
 "metadata": {
  "kernelspec": {
   "display_name": "Python 3 (ipykernel)",
   "language": "python",
   "name": "python3"
  },
  "language_info": {
   "codemirror_mode": {
    "name": "ipython",
    "version": 3
   },
   "file_extension": ".py",
   "mimetype": "text/x-python",
   "name": "python",
   "nbconvert_exporter": "python",
   "pygments_lexer": "ipython3",
   "version": "3.9.10"
  }
 },
 "nbformat": 4,
 "nbformat_minor": 5
}
